{
 "cells": [
  {
   "cell_type": "code",
   "execution_count": 1,
   "id": "01fbfe20-af46-4739-ae44-37de7d7c8e29",
   "metadata": {
    "execution": {
     "iopub.execute_input": "2022-04-27T23:34:13.071690Z",
     "iopub.status.busy": "2022-04-27T23:34:13.071450Z",
     "iopub.status.idle": "2022-04-27T23:34:39.757419Z",
     "shell.execute_reply": "2022-04-27T23:34:39.756774Z",
     "shell.execute_reply.started": "2022-04-27T23:34:13.071665Z"
    },
    "tags": []
   },
   "outputs": [
    {
     "data": {
      "application/vnd.jupyter.widget-view+json": {
       "model_id": "2c0db6064c064a9b819a4271b7c38885",
       "version_major": 2,
       "version_minor": 0
      },
      "text/plain": [
       "VBox()"
      ]
     },
     "metadata": {},
     "output_type": "display_data"
    },
    {
     "name": "stdout",
     "output_type": "stream",
     "text": [
      "Starting Spark application\n"
     ]
    },
    {
     "data": {
      "text/html": [
       "<table>\n",
       "<tr><th>ID</th><th>YARN Application ID</th><th>Kind</th><th>State</th><th>Spark UI</th><th>Driver log</th><th>User</th><th>Current session?</th></tr><tr><td>2</td><td>application_1651099476353_0003</td><td>pyspark</td><td>idle</td><td><a target=\"_blank\" href=\"http://ip-172-31-45-22.ec2.internal:20888/proxy/application_1651099476353_0003/\" class=\"emr-proxy-link\" emr-resource=\"j-19LA3UIEO2B9P\n",
       "\" application-id=\"application_1651099476353_0003\">Link</a></td><td><a target=\"_blank\" href=\"http://ip-172-31-39-29.ec2.internal:8042/node/containerlogs/container_1651099476353_0003_01_000001/livy\" >Link</a></td><td>None</td><td>✔</td></tr></table>"
      ],
      "text/plain": [
       "<IPython.core.display.HTML object>"
      ]
     },
     "metadata": {},
     "output_type": "display_data"
    },
    {
     "data": {
      "application/vnd.jupyter.widget-view+json": {
       "model_id": "",
       "version_major": 2,
       "version_minor": 0
      },
      "text/plain": [
       "FloatProgress(value=0.0, bar_style='info', description='Progress:', layout=Layout(height='25px', width='50%'),…"
      ]
     },
     "metadata": {},
     "output_type": "display_data"
    },
    {
     "name": "stdout",
     "output_type": "stream",
     "text": [
      "SparkSession available as 'spark'.\n"
     ]
    },
    {
     "data": {
      "application/vnd.jupyter.widget-view+json": {
       "model_id": "",
       "version_major": 2,
       "version_minor": 0
      },
      "text/plain": [
       "FloatProgress(value=0.0, bar_style='info', description='Progress:', layout=Layout(height='25px', width='50%'),…"
      ]
     },
     "metadata": {},
     "output_type": "display_data"
    }
   ],
   "source": [
    "import pyspark\n",
    "from pyspark import SparkConf\n",
    "from pyspark.sql import SparkSession"
   ]
  },
  {
   "cell_type": "code",
   "execution_count": 2,
   "id": "5fc35c9f-5911-48ee-9301-db6059dfa3d8",
   "metadata": {
    "execution": {
     "iopub.execute_input": "2022-04-27T23:34:39.758579Z",
     "iopub.status.busy": "2022-04-27T23:34:39.758393Z",
     "iopub.status.idle": "2022-04-27T23:34:41.442928Z",
     "shell.execute_reply": "2022-04-27T23:34:41.442071Z",
     "shell.execute_reply.started": "2022-04-27T23:34:39.758555Z"
    },
    "tags": []
   },
   "outputs": [
    {
     "data": {
      "application/vnd.jupyter.widget-view+json": {
       "model_id": "a95522f2714441c7b474ae360ff984bc",
       "version_major": 2,
       "version_minor": 0
      },
      "text/plain": [
       "VBox()"
      ]
     },
     "metadata": {},
     "output_type": "display_data"
    },
    {
     "data": {
      "application/vnd.jupyter.widget-view+json": {
       "model_id": "",
       "version_major": 2,
       "version_minor": 0
      },
      "text/plain": [
       "FloatProgress(value=0.0, bar_style='info', description='Progress:', layout=Layout(height='25px', width='50%'),…"
      ]
     },
     "metadata": {},
     "output_type": "display_data"
    }
   ],
   "source": [
    "spark = SparkSession.builder.appName(\"BigData\").getOrCreate()"
   ]
  },
  {
   "cell_type": "code",
   "execution_count": 7,
   "id": "bf3290c9-f9fb-41ed-b186-0c52eb31939e",
   "metadata": {
    "execution": {
     "iopub.execute_input": "2022-04-27T23:36:16.819711Z",
     "iopub.status.busy": "2022-04-27T23:36:16.819449Z",
     "iopub.status.idle": "2022-04-27T23:36:24.144819Z",
     "shell.execute_reply": "2022-04-27T23:36:24.143843Z",
     "shell.execute_reply.started": "2022-04-27T23:36:16.819685Z"
    },
    "tags": []
   },
   "outputs": [
    {
     "data": {
      "application/vnd.jupyter.widget-view+json": {
       "model_id": "77410d8e327a48f8a795b06a853f8ab7",
       "version_major": 2,
       "version_minor": 0
      },
      "text/plain": [
       "VBox()"
      ]
     },
     "metadata": {},
     "output_type": "display_data"
    },
    {
     "data": {
      "application/vnd.jupyter.widget-view+json": {
       "model_id": "",
       "version_major": 2,
       "version_minor": 0
      },
      "text/plain": [
       "FloatProgress(value=0.0, bar_style='info', description='Progress:', layout=Layout(height='25px', width='50%'),…"
      ]
     },
     "metadata": {},
     "output_type": "display_data"
    }
   ],
   "source": [
    "data = spark.read.csv(\"s3://bigdatadeutche/mergedfiles/data10.csv\")"
   ]
  },
  {
   "cell_type": "code",
   "execution_count": 8,
   "id": "256896a6-4d0b-4e93-812a-d12f53df0bb1",
   "metadata": {
    "execution": {
     "iopub.execute_input": "2022-04-27T23:36:28.171084Z",
     "iopub.status.busy": "2022-04-27T23:36:28.170831Z",
     "iopub.status.idle": "2022-04-27T23:36:33.501951Z",
     "shell.execute_reply": "2022-04-27T23:36:33.501264Z",
     "shell.execute_reply.started": "2022-04-27T23:36:28.171057Z"
    },
    "tags": []
   },
   "outputs": [
    {
     "data": {
      "application/vnd.jupyter.widget-view+json": {
       "model_id": "ec44c23f42834f0eab102ab78a5e76d8",
       "version_major": 2,
       "version_minor": 0
      },
      "text/plain": [
       "VBox()"
      ]
     },
     "metadata": {},
     "output_type": "display_data"
    },
    {
     "data": {
      "application/vnd.jupyter.widget-view+json": {
       "model_id": "",
       "version_major": 2,
       "version_minor": 0
      },
      "text/plain": [
       "FloatProgress(value=0.0, bar_style='info', description='Progress:', layout=Layout(height='25px', width='50%'),…"
      ]
     },
     "metadata": {},
     "output_type": "display_data"
    }
   ],
   "source": [
    "for i in range(1,10):\n",
    "    data = data.union(spark.read.csv(\"s3://bigdatadeutche/mergedfiles/data\"+str(i)+\".csv\"))"
   ]
  },
  {
   "cell_type": "code",
   "execution_count": 19,
   "id": "92dbb187-8cc3-48df-a2fd-8e8c19e21877",
   "metadata": {
    "execution": {
     "iopub.execute_input": "2022-04-28T00:00:47.421593Z",
     "iopub.status.busy": "2022-04-28T00:00:47.421348Z",
     "iopub.status.idle": "2022-04-28T00:02:29.024570Z",
     "shell.execute_reply": "2022-04-28T00:02:29.023866Z",
     "shell.execute_reply.started": "2022-04-28T00:00:47.421565Z"
    },
    "tags": []
   },
   "outputs": [
    {
     "data": {
      "application/vnd.jupyter.widget-view+json": {
       "model_id": "2695534a96d046d6a61a0c4f83376c0b",
       "version_major": 2,
       "version_minor": 0
      },
      "text/plain": [
       "VBox()"
      ]
     },
     "metadata": {},
     "output_type": "display_data"
    },
    {
     "data": {
      "application/vnd.jupyter.widget-view+json": {
       "model_id": "",
       "version_major": 2,
       "version_minor": 0
      },
      "text/plain": [
       "FloatProgress(value=0.0, bar_style='info', description='Progress:', layout=Layout(height='25px', width='50%'),…"
      ]
     },
     "metadata": {},
     "output_type": "display_data"
    }
   ],
   "source": [
    "data.write.format(\"csv\").save(\"s3n://big-data-bia678/final_merged_data\")"
   ]
  },
  {
   "cell_type": "code",
   "execution_count": 20,
   "id": "48c07151-5361-443d-ba54-762f893a25b6",
   "metadata": {
    "execution": {
     "iopub.execute_input": "2022-04-28T00:08:54.863703Z",
     "iopub.status.busy": "2022-04-28T00:08:54.863469Z",
     "iopub.status.idle": "2022-04-28T00:09:04.165277Z",
     "shell.execute_reply": "2022-04-28T00:09:04.164555Z",
     "shell.execute_reply.started": "2022-04-28T00:08:54.863677Z"
    }
   },
   "outputs": [
    {
     "data": {
      "application/vnd.jupyter.widget-view+json": {
       "model_id": "cc926a4a13c44a418803bb5f35251861",
       "version_major": 2,
       "version_minor": 0
      },
      "text/plain": [
       "VBox()"
      ]
     },
     "metadata": {},
     "output_type": "display_data"
    },
    {
     "data": {
      "application/vnd.jupyter.widget-view+json": {
       "model_id": "",
       "version_major": 2,
       "version_minor": 0
      },
      "text/plain": [
       "FloatProgress(value=0.0, bar_style='info', description='Progress:', layout=Layout(height='25px', width='50%'),…"
      ]
     },
     "metadata": {},
     "output_type": "display_data"
    }
   ],
   "source": [
    "data = spark.read.csv(\"s3n://big-data-bia678/final_merged_data/\")"
   ]
  },
  {
   "cell_type": "code",
   "execution_count": 31,
   "id": "ecd737bd-0f64-466e-a626-abcefa182848",
   "metadata": {
    "execution": {
     "iopub.execute_input": "2022-04-28T00:13:00.681575Z",
     "iopub.status.busy": "2022-04-28T00:13:00.681340Z",
     "iopub.status.idle": "2022-04-28T00:13:01.449212Z",
     "shell.execute_reply": "2022-04-28T00:13:01.448564Z",
     "shell.execute_reply.started": "2022-04-28T00:13:00.681549Z"
    },
    "tags": []
   },
   "outputs": [
    {
     "data": {
      "application/vnd.jupyter.widget-view+json": {
       "model_id": "175bbec0fbe842fbbca0990ac0d83c20",
       "version_major": 2,
       "version_minor": 0
      },
      "text/plain": [
       "VBox()"
      ]
     },
     "metadata": {},
     "output_type": "display_data"
    },
    {
     "data": {
      "application/vnd.jupyter.widget-view+json": {
       "model_id": "",
       "version_major": 2,
       "version_minor": 0
      },
      "text/plain": [
       "FloatProgress(value=0.0, bar_style='info', description='Progress:', layout=Layout(height='25px', width='50%'),…"
      ]
     },
     "metadata": {},
     "output_type": "display_data"
    },
    {
     "name": "stdout",
     "output_type": "stream",
     "text": [
      "[Row(_c0='ISIN', _c1='MarketSegment', _c2='UnderlyingSymbol', _c3='UnderlyingISIN', _c4='Currency', _c5='SecurityType', _c6='MaturityDate', _c7='StrikePrice', _c8='PutOrCall', _c9='MLEG', _c10='ContractGenerationNumber', _c11='SecurityID', _c12='Date', _c13='Time', _c14='StartPrice', _c15='MaxPrice', _c16='MinPrice', _c17='EndPrice', _c18='NumberOfContracts', _c19='NumberOfTrades')]"
     ]
    }
   ],
   "source": [
    "data.take(1)"
   ]
  },
  {
   "cell_type": "code",
   "execution_count": null,
   "id": "8913ab99-36d9-4132-8ff7-2c7e16af1471",
   "metadata": {},
   "outputs": [],
   "source": []
  }
 ],
 "metadata": {
  "kernelspec": {
   "display_name": "Python 3 (ipykernel)",
   "language": "python",
   "name": "python3"
  },
  "language_info": {
   "codemirror_mode": {
    "name": "ipython",
    "version": 3
   },
   "file_extension": ".py",
   "mimetype": "text/x-python",
   "name": "python",
   "nbconvert_exporter": "python",
   "pygments_lexer": "ipython3",
   "version": "3.8.11"
  }
 },
 "nbformat": 4,
 "nbformat_minor": 5
}
