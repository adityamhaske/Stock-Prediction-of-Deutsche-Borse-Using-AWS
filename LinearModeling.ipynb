{
 "cells": [
  {
   "cell_type": "code",
   "execution_count": 1,
   "id": "54280447-25d0-41c1-bb77-a5dddc1ac01f",
   "metadata": {
    "execution": {
     "iopub.execute_input": "2022-05-05T03:41:38.258987Z",
     "iopub.status.busy": "2022-05-05T03:41:38.258613Z",
     "iopub.status.idle": "2022-05-05T03:42:05.937173Z",
     "shell.execute_reply": "2022-05-05T03:42:05.936449Z",
     "shell.execute_reply.started": "2022-05-05T03:41:38.258965Z"
    }
   },
   "outputs": [
    {
     "data": {
      "application/vnd.jupyter.widget-view+json": {
       "model_id": "402ed2b2b7e34d1cbb3e89c1f501f0c1",
       "version_major": 2,
       "version_minor": 0
      },
      "text/plain": [
       "VBox()"
      ]
     },
     "metadata": {},
     "output_type": "display_data"
    },
    {
     "name": "stdout",
     "output_type": "stream",
     "text": [
      "Starting Spark application\n"
     ]
    },
    {
     "data": {
      "text/html": [
       "<table>\n",
       "<tr><th>ID</th><th>YARN Application ID</th><th>Kind</th><th>State</th><th>Spark UI</th><th>Driver log</th><th>User</th><th>Current session?</th></tr><tr><td>0</td><td>application_1651721918736_0001</td><td>pyspark</td><td>idle</td><td><a target=\"_blank\" href=\"http://ip-172-31-34-154.us-west-2.compute.internal:20888/proxy/application_1651721918736_0001/\" class=\"emr-proxy-link\" emr-resource=\"j-1LMYVEA1VFQL8\n",
       "\" application-id=\"application_1651721918736_0001\">Link</a></td><td><a target=\"_blank\" href=\"http://ip-172-31-34-154.us-west-2.compute.internal:8042/node/containerlogs/container_1651721918736_0001_01_000001/livy\" >Link</a></td><td>None</td><td>✔</td></tr></table>"
      ],
      "text/plain": [
       "<IPython.core.display.HTML object>"
      ]
     },
     "metadata": {},
     "output_type": "display_data"
    },
    {
     "data": {
      "application/vnd.jupyter.widget-view+json": {
       "model_id": "",
       "version_major": 2,
       "version_minor": 0
      },
      "text/plain": [
       "FloatProgress(value=0.0, bar_style='info', description='Progress:', layout=Layout(height='25px', width='50%'),…"
      ]
     },
     "metadata": {},
     "output_type": "display_data"
    },
    {
     "name": "stdout",
     "output_type": "stream",
     "text": [
      "SparkSession available as 'spark'.\n"
     ]
    },
    {
     "data": {
      "application/vnd.jupyter.widget-view+json": {
       "model_id": "",
       "version_major": 2,
       "version_minor": 0
      },
      "text/plain": [
       "FloatProgress(value=0.0, bar_style='info', description='Progress:', layout=Layout(height='25px', width='50%'),…"
      ]
     },
     "metadata": {},
     "output_type": "display_data"
    }
   ],
   "source": [
    "import pyspark\n",
    "from pyspark import SparkConf\n",
    "from pyspark.sql import SparkSession\n",
    "import pyspark.sql.functions as funcs"
   ]
  },
  {
   "cell_type": "code",
   "execution_count": 2,
   "id": "67310ca5-5ded-412b-894b-4b2db1302b75",
   "metadata": {
    "execution": {
     "iopub.execute_input": "2022-05-05T03:42:05.938384Z",
     "iopub.status.busy": "2022-05-05T03:42:05.938203Z",
     "iopub.status.idle": "2022-05-05T03:42:06.716493Z",
     "shell.execute_reply": "2022-05-05T03:42:06.715906Z",
     "shell.execute_reply.started": "2022-05-05T03:42:05.938357Z"
    }
   },
   "outputs": [
    {
     "data": {
      "application/vnd.jupyter.widget-view+json": {
       "model_id": "355d76f688d64944873d040acde0b1dd",
       "version_major": 2,
       "version_minor": 0
      },
      "text/plain": [
       "VBox()"
      ]
     },
     "metadata": {},
     "output_type": "display_data"
    },
    {
     "data": {
      "application/vnd.jupyter.widget-view+json": {
       "model_id": "",
       "version_major": 2,
       "version_minor": 0
      },
      "text/plain": [
       "FloatProgress(value=0.0, bar_style='info', description='Progress:', layout=Layout(height='25px', width='50%'),…"
      ]
     },
     "metadata": {},
     "output_type": "display_data"
    }
   ],
   "source": [
    "spark = SparkSession.builder.appName(\"BigData\").getOrCreate()"
   ]
  },
  {
   "cell_type": "code",
   "execution_count": 3,
   "id": "5689afd1-e3bb-477f-bf8c-f98a1d9b66fe",
   "metadata": {
    "execution": {
     "iopub.execute_input": "2022-05-05T03:42:06.717754Z",
     "iopub.status.busy": "2022-05-05T03:42:06.717577Z",
     "iopub.status.idle": "2022-05-05T03:42:16.055948Z",
     "shell.execute_reply": "2022-05-05T03:42:16.055339Z",
     "shell.execute_reply.started": "2022-05-05T03:42:06.717727Z"
    }
   },
   "outputs": [
    {
     "data": {
      "application/vnd.jupyter.widget-view+json": {
       "model_id": "41250d627a0b46158712470eace52e51",
       "version_major": 2,
       "version_minor": 0
      },
      "text/plain": [
       "VBox()"
      ]
     },
     "metadata": {},
     "output_type": "display_data"
    },
    {
     "data": {
      "application/vnd.jupyter.widget-view+json": {
       "model_id": "",
       "version_major": 2,
       "version_minor": 0
      },
      "text/plain": [
       "FloatProgress(value=0.0, bar_style='info', description='Progress:', layout=Layout(height='25px', width='50%'),…"
      ]
     },
     "metadata": {},
     "output_type": "display_data"
    }
   ],
   "source": [
    "data = spark.read.option(\"header\",True).csv(\"s3n://big-data-bia678/final_merged_data/\")"
   ]
  },
  {
   "cell_type": "code",
   "execution_count": 4,
   "id": "dea76af9-2ff0-4ca4-969b-c151f3ce83f7",
   "metadata": {
    "execution": {
     "iopub.execute_input": "2022-05-05T03:42:16.057141Z",
     "iopub.status.busy": "2022-05-05T03:42:16.056947Z",
     "iopub.status.idle": "2022-05-05T03:42:16.318280Z",
     "shell.execute_reply": "2022-05-05T03:42:16.317707Z",
     "shell.execute_reply.started": "2022-05-05T03:42:16.057093Z"
    }
   },
   "outputs": [
    {
     "data": {
      "application/vnd.jupyter.widget-view+json": {
       "model_id": "d211425654d248e7af1da2976981be66",
       "version_major": 2,
       "version_minor": 0
      },
      "text/plain": [
       "VBox()"
      ]
     },
     "metadata": {},
     "output_type": "display_data"
    },
    {
     "data": {
      "application/vnd.jupyter.widget-view+json": {
       "model_id": "",
       "version_major": 2,
       "version_minor": 0
      },
      "text/plain": [
       "FloatProgress(value=0.0, bar_style='info', description='Progress:', layout=Layout(height='25px', width='50%'),…"
      ]
     },
     "metadata": {},
     "output_type": "display_data"
    },
    {
     "name": "stdout",
     "output_type": "stream",
     "text": [
      "DataFrame[ISIN: string, MarketSegment: string, UnderlyingSymbol: string, UnderlyingISIN: string, Currency: string, SecurityType: string, MaturityDate: string, StrikePrice: string, PutOrCall: string, MLEG: string, ContractGenerationNumber: string, SecurityID: string, Date: string, Time: string, StartPrice: string, MaxPrice: string, MinPrice: string, EndPrice: string, NumberOfContracts: string, NumberOfTrades: string]"
     ]
    }
   ],
   "source": [
    "data.persist()"
   ]
  },
  {
   "cell_type": "code",
   "execution_count": 5,
   "id": "aa4d885a-cf49-478e-9b0e-f9ed76326776",
   "metadata": {
    "execution": {
     "iopub.execute_input": "2022-05-05T03:42:16.664856Z",
     "iopub.status.busy": "2022-05-05T03:42:16.664651Z",
     "iopub.status.idle": "2022-05-05T03:42:16.721732Z",
     "shell.execute_reply": "2022-05-05T03:42:16.721001Z",
     "shell.execute_reply.started": "2022-05-05T03:42:16.664829Z"
    }
   },
   "outputs": [
    {
     "data": {
      "application/vnd.jupyter.widget-view+json": {
       "model_id": "5e18ebc48b5b4748bd553e614d8f1ecf",
       "version_major": 2,
       "version_minor": 0
      },
      "text/plain": [
       "VBox()"
      ]
     },
     "metadata": {},
     "output_type": "display_data"
    },
    {
     "data": {
      "application/vnd.jupyter.widget-view+json": {
       "model_id": "",
       "version_major": 2,
       "version_minor": 0
      },
      "text/plain": [
       "FloatProgress(value=0.0, bar_style='info', description='Progress:', layout=Layout(height='25px', width='50%'),…"
      ]
     },
     "metadata": {},
     "output_type": "display_data"
    },
    {
     "name": "stdout",
     "output_type": "stream",
     "text": [
      "DataFrame[ISIN: string, MarketSegment: string, UnderlyingSymbol: string, UnderlyingISIN: string, Currency: string, SecurityType: string, MaturityDate: string, StrikePrice: string, PutOrCall: string, MLEG: string, ContractGenerationNumber: string, SecurityID: string, Date: string, Time: string, StartPrice: string, MaxPrice: string, MinPrice: string, EndPrice: string, NumberOfContracts: string, NumberOfTrades: string]"
     ]
    }
   ],
   "source": [
    "data.cache()"
   ]
  },
  {
   "cell_type": "code",
   "execution_count": 6,
   "id": "60c30127-fd15-431d-b618-57817931586d",
   "metadata": {
    "execution": {
     "iopub.execute_input": "2022-05-05T03:42:34.789025Z",
     "iopub.status.busy": "2022-05-05T03:42:34.788747Z",
     "iopub.status.idle": "2022-05-05T03:43:40.533206Z",
     "shell.execute_reply": "2022-05-05T03:43:40.532663Z",
     "shell.execute_reply.started": "2022-05-05T03:42:34.788986Z"
    }
   },
   "outputs": [
    {
     "data": {
      "application/vnd.jupyter.widget-view+json": {
       "model_id": "ed412de413b14fd1abb9a0ad18153dd3",
       "version_major": 2,
       "version_minor": 0
      },
      "text/plain": [
       "VBox()"
      ]
     },
     "metadata": {},
     "output_type": "display_data"
    },
    {
     "data": {
      "application/vnd.jupyter.widget-view+json": {
       "model_id": "",
       "version_major": 2,
       "version_minor": 0
      },
      "text/plain": [
       "FloatProgress(value=0.0, bar_style='info', description='Progress:', layout=Layout(height='25px', width='50%'),…"
      ]
     },
     "metadata": {},
     "output_type": "display_data"
    },
    {
     "name": "stdout",
     "output_type": "stream",
     "text": [
      "+------------+-------------+----------------+--------------+--------+------------+------------+-----------+---------+--------------------+------------------------+----------+----------+-----+----------+--------+--------+--------+-----------------+--------------+\n",
      "|        ISIN|MarketSegment|UnderlyingSymbol|UnderlyingISIN|Currency|SecurityType|MaturityDate|StrikePrice|PutOrCall|                MLEG|ContractGenerationNumber|SecurityID|      Date| Time|StartPrice|MaxPrice|MinPrice|EndPrice|NumberOfContracts|NumberOfTrades|\n",
      "+------------+-------------+----------------+--------------+--------+------------+------------+-----------+---------+--------------------+------------------------+----------+----------+-----+----------+--------+--------+--------+-----------------+--------------+\n",
      "|DE000C58X4H8|         FDXM|             DAX|  DE0008469008|     EUR|         FUT|  20211217.0|       null|     null| FDXM SI 20211217 CS|                    null| 6209447.0|2021-11-09|10:20|   16077.0| 16078.0| 16076.0| 16077.0|             24.0|          18.0|\n",
      "|DE000C1W2M60|         ODX2|             DAX|  DE0008469008|     EUR|         OPT|  20211112.0|    16100.0|      Put|ODX2 SI 20211112 ...|                     1.0| 6905146.0|2021-11-09|10:33|      76.5|    76.5|    76.5|    76.5|              1.0|           1.0|\n",
      "|DE000C58X4M8|         FESB|            SX7E|  EU0009658426|     EUR|         FUT|  20211217.0|       null|     null| FESB SI 20211217 CS|                    null| 6209451.0|2021-11-09|10:36|     104.0|  104.05|   104.0|  104.05|             25.0|           4.0|\n",
      "|DE000C58X5Y0|         FSTE|            SXEP|  EU0009658780|     EUR|         FUT|  20211217.0|       null|     null| FSTE SI 20211217 CS|                    null| 6209496.0|2021-11-09|10:58|     286.1|   286.1|   286.1|   286.1|              1.0|           1.0|\n",
      "|DE000C0PLE53|         OESX|            SX5E|  EU0009658145|     EUR|         OPT|  20211217.0|     4200.0|      Put|OESX SI 20211217 ...|                     1.0| 2267371.0|2021-11-09|11:26|      36.8|    36.8|    36.8|    36.8|            201.0|           2.0|\n",
      "|DE000C58EEE5|         FBTP|            null|          null|     EUR|         FUT|  20211208.0|       null|     null| FBTP SI 20211208 PS|                    null| 6183276.0|2021-11-09|12:31|    152.82|  152.83|  152.82|  152.82|             20.0|          12.0|\n",
      "|DE000C1WYZT5|          SZG|             SZG|  DE0006202005|     EUR|         OPT|  20220121.0|       34.0|     Call|SZG SI 20220121 P...|                     4.0| 6940551.0|2021-11-09|13:14|      1.49|    1.49|    1.49|    1.49|              5.0|           1.0|\n",
      "|DE000C1W2BL4|         OGB2|            FGBL|  DE0009652644|     EUR|         OPT|  20211112.0|      170.5|      Put|OGB2 SI 20211112 ...|                     1.0| 6906945.0|2021-11-09|13:22|      0.17|    0.17|    0.17|    0.17|              1.0|           1.0|\n",
      "|DE000C6CMZQ7|         OKS2|            FKS2|  XC0009664639|     KRW|         OPT|  20211111.0|      397.5|     Call|OKS2 SI 20211111 ...|                     1.0| 6393198.0|2021-11-09|13:33|      0.29|     0.3|    0.29|     0.3|              3.0|           3.0|\n",
      "|DE000C6CMZF0|         OKS2|            FKS2|  XC0009664639|     KRW|         OPT|  20211111.0|      385.0|      Put|OKS2 SI 20211111 ...|                     1.0| 6393189.0|2021-11-09|13:34|      0.68|    0.68|    0.68|    0.68|              2.0|           2.0|\n",
      "|DE000C6CMZQ7|         OKS2|            FKS2|  XC0009664639|     KRW|         OPT|  20211111.0|      397.5|     Call|OKS2 SI 20211111 ...|                     1.0| 6393198.0|2021-11-09|14:05|       0.3|     0.3|    0.29|     0.3|              6.0|           3.0|\n",
      "|DE000C1W2FF7|         OES2|            SX5E|  EU0009658145|     EUR|         OPT|  20211112.0|     3975.0|      Put|OES2 SI 20211112 ...|                     1.0| 6905288.0|2021-11-09|14:13|       0.3|     0.3|     0.3|     0.3|              5.0|           1.0|\n",
      "|DE000C6CV593|          FVS|            V2TX|  DE000A0C3QF1|     EUR|         FUT|  20220119.0|       null|     null|  FVS SI 20220119 CS|                    null| 6415656.0|2021-11-09|14:17|      21.4|    21.4|    21.4|    21.4|             19.0|           1.0|\n",
      "|DE000C59ESM6|          MRK|             MRK|  DE0006599905|     EUR|         OPT|  20220318.0|      100.0|      Put|MRK SI 20220318 P...|                     5.0| 6230829.0|2021-11-09|14:20|      0.32|    0.32|    0.32|    0.32|             10.0|           1.0|\n",
      "|DE000C6CMZJ2|         OKS2|            FKS2|  XC0009664639|     KRW|         OPT|  20211111.0|      390.0|     Call|OKS2 SI 20211111 ...|                     1.0| 6393192.0|2021-11-09|14:53|      2.51|    2.51|    2.45|    2.47|             45.0|          26.0|\n",
      "|DE000C4SA6R6|         FESX|            SX5E|  EU0009658145|     EUR|         FUT|  20211217.0|       null|     null| FESX SI 20211217 CS|                    null| 4631963.0|2021-11-09|15:00|    4337.0|  4341.5|  4336.0|  4341.5|           2964.0|         285.0|\n",
      "|DE000C6CMZ72|         OKS2|            FKS2|  XC0009664639|     KRW|         OPT|  20211111.0|      375.0|      Put|OKS2 SI 20211111 ...|                     1.0| 6393181.0|2021-11-09|15:01|      0.07|    0.07|    0.06|    0.06|             43.0|           7.0|\n",
      "|DE000C1KBQ55|         NOA3|            NOA3|  FI0009000681|     EUR|         OPT|  20221216.0|        4.0|      Put|NOA3 SI 20221216 ...|                     4.0| 2867104.0|2021-11-09|15:14|      0.31|    0.31|    0.31|    0.31|             88.0|           2.0|\n",
      "|DE000C1SMCK6|          AAR|             ABN|  NL0011540547|     EUR|         OPT|  20211119.0|       12.6|      Put|AAR SI 20211119 P...|                     1.0| 6745084.0|2021-11-09|15:31|      0.31|    0.31|    0.31|    0.31|           2103.0|           5.0|\n",
      "|DE000C6CMZS3|         OKS2|            FKS2|  XC0009664639|     KRW|         OPT|  20211111.0|      400.0|     Call|OKS2 SI 20211111 ...|                     1.0| 6393200.0|2021-11-09|15:34|      0.06|    0.06|    0.06|    0.06|              5.0|           2.0|\n",
      "+------------+-------------+----------------+--------------+--------+------------+------------+-----------+---------+--------------------+------------------------+----------+----------+-----+----------+--------+--------+--------+-----------------+--------------+\n",
      "only showing top 20 rows"
     ]
    }
   ],
   "source": [
    "data = data.dropDuplicates()\n",
    "data.show()"
   ]
  },
  {
   "cell_type": "code",
   "execution_count": 7,
   "id": "71c8cdde-0955-445c-8f70-7e15c63e98ec",
   "metadata": {
    "execution": {
     "iopub.execute_input": "2022-05-05T03:43:40.534406Z",
     "iopub.status.busy": "2022-05-05T03:43:40.534180Z",
     "iopub.status.idle": "2022-05-05T03:43:40.791330Z",
     "shell.execute_reply": "2022-05-05T03:43:40.790763Z",
     "shell.execute_reply.started": "2022-05-05T03:43:40.534371Z"
    }
   },
   "outputs": [
    {
     "data": {
      "application/vnd.jupyter.widget-view+json": {
       "model_id": "eb5709dc35044a0786b6d16e54edb267",
       "version_major": 2,
       "version_minor": 0
      },
      "text/plain": [
       "VBox()"
      ]
     },
     "metadata": {},
     "output_type": "display_data"
    },
    {
     "data": {
      "application/vnd.jupyter.widget-view+json": {
       "model_id": "",
       "version_major": 2,
       "version_minor": 0
      },
      "text/plain": [
       "FloatProgress(value=0.0, bar_style='info', description='Progress:', layout=Layout(height='25px', width='50%'),…"
      ]
     },
     "metadata": {},
     "output_type": "display_data"
    }
   ],
   "source": [
    "from pyspark.sql.types import DoubleType\n",
    "data = data.withColumn(\"StrikePrice\", data[\"StrikePrice\"].cast(DoubleType()))\n",
    "data= data.withColumn(\"StartPrice\", data[\"StartPrice\"].cast(DoubleType()))\n",
    "data = data.withColumn(\"MaxPrice\", data[\"MaxPrice\"].cast(DoubleType()))\n",
    "data = data.withColumn(\"MinPrice\", data[\"MinPrice\"].cast(DoubleType()))\n",
    "data = data.withColumn(\"EndPrice\", data[\"EndPrice\"].cast(DoubleType()))"
   ]
  },
  {
   "cell_type": "code",
   "execution_count": 8,
   "id": "7acbfe54-398c-4b3d-a786-4476168d3ccf",
   "metadata": {
    "execution": {
     "iopub.execute_input": "2022-05-05T03:43:40.792745Z",
     "iopub.status.busy": "2022-05-05T03:43:40.792585Z",
     "iopub.status.idle": "2022-05-05T03:43:41.052858Z",
     "shell.execute_reply": "2022-05-05T03:43:41.052198Z",
     "shell.execute_reply.started": "2022-05-05T03:43:40.792745Z"
    }
   },
   "outputs": [
    {
     "data": {
      "application/vnd.jupyter.widget-view+json": {
       "model_id": "8ce0bc5817884383b08130e52f84d218",
       "version_major": 2,
       "version_minor": 0
      },
      "text/plain": [
       "VBox()"
      ]
     },
     "metadata": {},
     "output_type": "display_data"
    },
    {
     "data": {
      "application/vnd.jupyter.widget-view+json": {
       "model_id": "",
       "version_major": 2,
       "version_minor": 0
      },
      "text/plain": [
       "FloatProgress(value=0.0, bar_style='info', description='Progress:', layout=Layout(height='25px', width='50%'),…"
      ]
     },
     "metadata": {},
     "output_type": "display_data"
    },
    {
     "name": "stdout",
     "output_type": "stream",
     "text": [
      "Numeric columns ['StrikePrice', 'StartPrice', 'MaxPrice', 'MinPrice', 'EndPrice']\n",
      "categorical columns ['ISIN', 'MarketSegment', 'UnderlyingSymbol', 'UnderlyingISIN', 'Currency', 'SecurityType', 'MaturityDate', 'PutOrCall', 'MLEG', 'ContractGenerationNumber', 'SecurityID', 'Date', 'Time', 'NumberOfContracts', 'NumberOfTrades']"
     ]
    }
   ],
   "source": [
    "numeric_columns = list()\n",
    "categorical_column = list()\n",
    "for col_ in data.columns:\n",
    "    if data.select(col_).dtypes[0][1] != \"string\":\n",
    "        numeric_columns.append(col_)\n",
    "    else:\n",
    "        categorical_column.append(col_)\n",
    "        \n",
    "print(\"Numeric columns\",numeric_columns)\n",
    "print(\"categorical columns\",categorical_column)"
   ]
  },
  {
   "cell_type": "code",
   "execution_count": 9,
   "id": "ef7bcdcc-b5c5-439a-9866-acb7ceccef7b",
   "metadata": {
    "execution": {
     "iopub.execute_input": "2022-05-05T03:43:41.053951Z",
     "iopub.status.busy": "2022-05-05T03:43:41.053706Z",
     "iopub.status.idle": "2022-05-05T03:43:41.817788Z",
     "shell.execute_reply": "2022-05-05T03:43:41.817178Z",
     "shell.execute_reply.started": "2022-05-05T03:43:41.053925Z"
    }
   },
   "outputs": [
    {
     "data": {
      "application/vnd.jupyter.widget-view+json": {
       "model_id": "7afb11cf4de04e7880d2925d5031f64a",
       "version_major": 2,
       "version_minor": 0
      },
      "text/plain": [
       "VBox()"
      ]
     },
     "metadata": {},
     "output_type": "display_data"
    },
    {
     "data": {
      "application/vnd.jupyter.widget-view+json": {
       "model_id": "",
       "version_major": 2,
       "version_minor": 0
      },
      "text/plain": [
       "FloatProgress(value=0.0, bar_style='info', description='Progress:', layout=Layout(height='25px', width='50%'),…"
      ]
     },
     "metadata": {},
     "output_type": "display_data"
    }
   ],
   "source": [
    "from pyspark.sql.functions import *\n",
    "nan_rows = data.select([count(when(isnan(c) | col(c).isNull(), c)).alias(c) for c in data.columns])"
   ]
  },
  {
   "cell_type": "code",
   "execution_count": 10,
   "id": "7ef5092b-a6e1-4f55-b320-375d843b443c",
   "metadata": {
    "execution": {
     "iopub.execute_input": "2022-05-05T03:43:41.818750Z",
     "iopub.status.busy": "2022-05-05T03:43:41.818575Z",
     "iopub.status.idle": "2022-05-05T03:43:41.870907Z",
     "shell.execute_reply": "2022-05-05T03:43:41.870471Z",
     "shell.execute_reply.started": "2022-05-05T03:43:41.818736Z"
    }
   },
   "outputs": [
    {
     "data": {
      "application/vnd.jupyter.widget-view+json": {
       "model_id": "fb3eeb1bb980466cae326cc6b0f6ec30",
       "version_major": 2,
       "version_minor": 0
      },
      "text/plain": [
       "VBox()"
      ]
     },
     "metadata": {},
     "output_type": "display_data"
    },
    {
     "data": {
      "application/vnd.jupyter.widget-view+json": {
       "model_id": "",
       "version_major": 2,
       "version_minor": 0
      },
      "text/plain": [
       "FloatProgress(value=0.0, bar_style='info', description='Progress:', layout=Layout(height='25px', width='50%'),…"
      ]
     },
     "metadata": {},
     "output_type": "display_data"
    }
   ],
   "source": [
    "data = data.drop(\"UnderlyingISIN\", \"UnderlyingSymbol\", \"SecurityID\")"
   ]
  },
  {
   "cell_type": "code",
   "execution_count": 11,
   "id": "d58e0820-61f5-4cbc-b641-834437999ee7",
   "metadata": {
    "execution": {
     "iopub.execute_input": "2022-05-05T03:43:41.871926Z",
     "iopub.status.busy": "2022-05-05T03:43:41.871763Z",
     "iopub.status.idle": "2022-05-05T03:43:41.923445Z",
     "shell.execute_reply": "2022-05-05T03:43:41.922879Z",
     "shell.execute_reply.started": "2022-05-05T03:43:41.871926Z"
    }
   },
   "outputs": [
    {
     "data": {
      "application/vnd.jupyter.widget-view+json": {
       "model_id": "7dfcb7d8b6704b28ac20c36faafab0ec",
       "version_major": 2,
       "version_minor": 0
      },
      "text/plain": [
       "VBox()"
      ]
     },
     "metadata": {},
     "output_type": "display_data"
    },
    {
     "data": {
      "application/vnd.jupyter.widget-view+json": {
       "model_id": "",
       "version_major": 2,
       "version_minor": 0
      },
      "text/plain": [
       "FloatProgress(value=0.0, bar_style='info', description='Progress:', layout=Layout(height='25px', width='50%'),…"
      ]
     },
     "metadata": {},
     "output_type": "display_data"
    }
   ],
   "source": [
    "data = data.dropna()"
   ]
  },
  {
   "cell_type": "code",
   "execution_count": 12,
   "id": "5bf06574-7543-4c69-9ec5-fbe092731dbe",
   "metadata": {
    "execution": {
     "iopub.execute_input": "2022-05-05T03:44:02.428888Z",
     "iopub.status.busy": "2022-05-05T03:44:02.428652Z",
     "iopub.status.idle": "2022-05-05T03:44:02.480320Z",
     "shell.execute_reply": "2022-05-05T03:44:02.479855Z",
     "shell.execute_reply.started": "2022-05-05T03:44:02.428860Z"
    }
   },
   "outputs": [
    {
     "data": {
      "application/vnd.jupyter.widget-view+json": {
       "model_id": "bd4fcb72add341979ebaf89fd20e8b98",
       "version_major": 2,
       "version_minor": 0
      },
      "text/plain": [
       "VBox()"
      ]
     },
     "metadata": {},
     "output_type": "display_data"
    },
    {
     "data": {
      "application/vnd.jupyter.widget-view+json": {
       "model_id": "",
       "version_major": 2,
       "version_minor": 0
      },
      "text/plain": [
       "FloatProgress(value=0.0, bar_style='info', description='Progress:', layout=Layout(height='25px', width='50%'),…"
      ]
     },
     "metadata": {},
     "output_type": "display_data"
    }
   ],
   "source": [
    "import pyspark.sql.functions as func\n",
    "\n",
    "date_from = \"2021-01-01\" \n",
    "date_to = \"2022-01-01\"\n",
    "#data = data.select(func.to_date(data[\"Date\"]).alias(\"time\"))\n",
    "sf = data.filter(data.Date > date_from).filter(data.Date < date_to)"
   ]
  },
  {
   "cell_type": "code",
   "execution_count": 13,
   "id": "f1444747-71df-4d41-a054-d50caef89d91",
   "metadata": {
    "execution": {
     "iopub.execute_input": "2022-05-05T03:44:40.186605Z",
     "iopub.status.busy": "2022-05-05T03:44:40.186375Z",
     "iopub.status.idle": "2022-05-05T03:44:45.481721Z",
     "shell.execute_reply": "2022-05-05T03:44:45.481020Z",
     "shell.execute_reply.started": "2022-05-05T03:44:40.186575Z"
    }
   },
   "outputs": [
    {
     "data": {
      "application/vnd.jupyter.widget-view+json": {
       "model_id": "6a7dd55d3ac5465b9db0793cedaa5665",
       "version_major": 2,
       "version_minor": 0
      },
      "text/plain": [
       "VBox()"
      ]
     },
     "metadata": {},
     "output_type": "display_data"
    },
    {
     "data": {
      "application/vnd.jupyter.widget-view+json": {
       "model_id": "",
       "version_major": 2,
       "version_minor": 0
      },
      "text/plain": [
       "FloatProgress(value=0.0, bar_style='info', description='Progress:', layout=Layout(height='25px', width='50%'),…"
      ]
     },
     "metadata": {},
     "output_type": "display_data"
    },
    {
     "name": "stdout",
     "output_type": "stream",
     "text": [
      "[Row(ISIN='DE000C1W2M60', MarketSegment='ODX2', Currency='EUR', SecurityType='OPT', MaturityDate='20211112.0', StrikePrice=16100.0, PutOrCall='Put', MLEG='ODX2 SI 20211112 CS EU P 16100 0', ContractGenerationNumber='1.0', Date='2021-11-09', Time='10:33', StartPrice=76.5, MaxPrice=76.5, MinPrice=76.5, EndPrice=76.5, NumberOfContracts='1.0', NumberOfTrades='1.0')]"
     ]
    }
   ],
   "source": [
    "sf.take(1)"
   ]
  },
  {
   "cell_type": "code",
   "execution_count": 14,
   "id": "945f13b3-ef92-480e-9f89-8949eeb36688",
   "metadata": {
    "execution": {
     "iopub.execute_input": "2022-05-05T03:45:48.683200Z",
     "iopub.status.busy": "2022-05-05T03:45:48.682929Z",
     "iopub.status.idle": "2022-05-05T03:45:56.254911Z",
     "shell.execute_reply": "2022-05-05T03:45:56.252727Z",
     "shell.execute_reply.started": "2022-05-05T03:45:48.683169Z"
    }
   },
   "outputs": [
    {
     "data": {
      "application/vnd.jupyter.widget-view+json": {
       "model_id": "6b62c6f114a5438dbe23f4e1654a047b",
       "version_major": 2,
       "version_minor": 0
      },
      "text/plain": [
       "VBox()"
      ]
     },
     "metadata": {},
     "output_type": "display_data"
    },
    {
     "data": {
      "application/vnd.jupyter.widget-view+json": {
       "model_id": "",
       "version_major": 2,
       "version_minor": 0
      },
      "text/plain": [
       "FloatProgress(value=0.0, bar_style='info', description='Progress:', layout=Layout(height='25px', width='50%'),…"
      ]
     },
     "metadata": {},
     "output_type": "display_data"
    },
    {
     "name": "stdout",
     "output_type": "stream",
     "text": [
      "+---------+-------+\n",
      "|PutOrCall|  count|\n",
      "+---------+-------+\n",
      "|      Put|2876277|\n",
      "|     Call|2256072|\n",
      "+---------+-------+"
     ]
    }
   ],
   "source": [
    "#Groupby put or call\n",
    "sf.groupBy('PutOrCall').count().show()"
   ]
  },
  {
   "cell_type": "code",
   "execution_count": 16,
   "id": "f925244a-389a-4a0c-ab28-f8a08aa32c59",
   "metadata": {
    "execution": {
     "iopub.execute_input": "2022-05-05T03:47:00.537952Z",
     "iopub.status.busy": "2022-05-05T03:47:00.537692Z",
     "iopub.status.idle": "2022-05-05T03:47:05.853119Z",
     "shell.execute_reply": "2022-05-05T03:47:05.852498Z",
     "shell.execute_reply.started": "2022-05-05T03:47:00.537952Z"
    },
    "tags": []
   },
   "outputs": [
    {
     "data": {
      "application/vnd.jupyter.widget-view+json": {
       "model_id": "9c7bb225857c4fe99b8f7c12f257e6cf",
       "version_major": 2,
       "version_minor": 0
      },
      "text/plain": [
       "VBox()"
      ]
     },
     "metadata": {},
     "output_type": "display_data"
    },
    {
     "data": {
      "application/vnd.jupyter.widget-view+json": {
       "model_id": "",
       "version_major": 2,
       "version_minor": 0
      },
      "text/plain": [
       "FloatProgress(value=0.0, bar_style='info', description='Progress:', layout=Layout(height='25px', width='50%'),…"
      ]
     },
     "metadata": {},
     "output_type": "display_data"
    },
    {
     "name": "stdout",
     "output_type": "stream",
     "text": [
      "+--------+-------+\n",
      "|Currency|  count|\n",
      "+--------+-------+\n",
      "|     CHF| 393867|\n",
      "|     GBX|   1634|\n",
      "|     USD|    823|\n",
      "|     EUR|2824787|\n",
      "|     KRW|1911232|\n",
      "|     GBP|      6|\n",
      "+--------+-------+"
     ]
    }
   ],
   "source": [
    "#Groupby currency\n",
    "sf.groupBy('Currency').count().show()"
   ]
  },
  {
   "cell_type": "code",
   "execution_count": 59,
   "id": "7e308700-80cc-4814-8555-48541cd3c0c9",
   "metadata": {
    "execution": {
     "iopub.execute_input": "2022-05-05T04:04:12.165841Z",
     "iopub.status.busy": "2022-05-05T04:04:12.165491Z",
     "iopub.status.idle": "2022-05-05T04:04:21.491371Z",
     "shell.execute_reply": "2022-05-05T04:04:21.490702Z",
     "shell.execute_reply.started": "2022-05-05T04:04:12.165798Z"
    },
    "tags": []
   },
   "outputs": [
    {
     "data": {
      "application/vnd.jupyter.widget-view+json": {
       "model_id": "91a466cf2b19434c82422a545478129b",
       "version_major": 2,
       "version_minor": 0
      },
      "text/plain": [
       "VBox()"
      ]
     },
     "metadata": {},
     "output_type": "display_data"
    },
    {
     "data": {
      "application/vnd.jupyter.widget-view+json": {
       "model_id": "",
       "version_major": 2,
       "version_minor": 0
      },
      "text/plain": [
       "FloatProgress(value=0.0, bar_style='info', description='Progress:', layout=Layout(height='25px', width='50%'),…"
      ]
     },
     "metadata": {},
     "output_type": "display_data"
    },
    {
     "name": "stdout",
     "output_type": "stream",
     "text": [
      "[Row(ISIN='DE000C1W2M60', MarketSegment='ODX2', Currency='EUR', SecurityType='OPT', MaturityDate='20211112.0', StrikePrice=16100.0, PutOrCall='Put', MLEG='ODX2 SI 20211112 CS EU P 16100 0', ContractGenerationNumber='1.0', Date='2021-11-09', Time='10:33', StartPrice=76.5, MaxPrice=76.5, MinPrice=76.5, EndPrice=76.5, NumberOfContracts='1.0', NumberOfTrades='1.0', sec=0.0), Row(ISIN='DE000C0PLE53', MarketSegment='OESX', Currency='EUR', SecurityType='OPT', MaturityDate='20211217.0', StrikePrice=4200.0, PutOrCall='Put', MLEG='OESX SI 20211217 CS EU P 4200 0', ContractGenerationNumber='1.0', Date='2021-11-09', Time='11:26', StartPrice=36.8, MaxPrice=36.8, MinPrice=36.8, EndPrice=36.8, NumberOfContracts='201.0', NumberOfTrades='2.0', sec=0.0), Row(ISIN='DE000C1WYZT5', MarketSegment='SZG', Currency='EUR', SecurityType='OPT', MaturityDate='20220121.0', StrikePrice=34.0, PutOrCall='Call', MLEG='SZG SI 20220121 PS AM C 34.00 0', ContractGenerationNumber='4.0', Date='2021-11-09', Time='13:14', StartPrice=1.49, MaxPrice=1.49, MinPrice=1.49, EndPrice=1.49, NumberOfContracts='5.0', NumberOfTrades='1.0', sec=0.0), Row(ISIN='DE000C1W2BL4', MarketSegment='OGB2', Currency='EUR', SecurityType='OPT', MaturityDate='20211112.0', StrikePrice=170.5, PutOrCall='Put', MLEG='OGB2 SI 20211112 PS AM P 170.50 0', ContractGenerationNumber='1.0', Date='2021-11-09', Time='13:22', StartPrice=0.17, MaxPrice=0.17, MinPrice=0.17, EndPrice=0.17, NumberOfContracts='1.0', NumberOfTrades='1.0', sec=0.0), Row(ISIN='DE000C6CMZQ7', MarketSegment='OKS2', Currency='KRW', SecurityType='OPT', MaturityDate='20211111.0', StrikePrice=397.5, PutOrCall='Call', MLEG='OKS2 SI 20211111 CS EU C 397.5 0', ContractGenerationNumber='1.0', Date='2021-11-09', Time='13:33', StartPrice=0.29, MaxPrice=0.3, MinPrice=0.29, EndPrice=0.3, NumberOfContracts='3.0', NumberOfTrades='3.0', sec=0.0)]"
     ]
    }
   ],
   "source": [
    "from pyspark.ml.feature import StringIndexer\n",
    "indexer = StringIndexer(inputCol=\"SecurityType\", outputCol=\"sec\")\n",
    "indexed = indexer.fit(sf).transform(sf)\n",
    "indexed.head(5)\n",
    "\n"
   ]
  },
  {
   "cell_type": "code",
   "execution_count": 70,
   "id": "7b88a867-c12c-4cd5-b171-b39a8fe8c207",
   "metadata": {
    "execution": {
     "iopub.execute_input": "2022-05-05T04:09:20.903540Z",
     "iopub.status.busy": "2022-05-05T04:09:20.903317Z",
     "iopub.status.idle": "2022-05-05T04:11:03.041074Z",
     "shell.execute_reply": "2022-05-05T04:11:03.040422Z",
     "shell.execute_reply.started": "2022-05-05T04:09:20.903513Z"
    },
    "tags": []
   },
   "outputs": [
    {
     "data": {
      "application/vnd.jupyter.widget-view+json": {
       "model_id": "355ef9453c2549cf9cd66adffc96b077",
       "version_major": 2,
       "version_minor": 0
      },
      "text/plain": [
       "VBox()"
      ]
     },
     "metadata": {},
     "output_type": "display_data"
    },
    {
     "data": {
      "application/vnd.jupyter.widget-view+json": {
       "model_id": "",
       "version_major": 2,
       "version_minor": 0
      },
      "text/plain": [
       "FloatProgress(value=0.0, bar_style='info', description='Progress:', layout=Layout(height='25px', width='50%'),…"
      ]
     },
     "metadata": {},
     "output_type": "display_data"
    }
   ],
   "source": [
    "#multiple column featurizer.\n",
    "from pyspark.ml import Pipeline\n",
    "from pyspark.ml.feature import StringIndexer\n",
    "\n",
    "indexers = [StringIndexer(inputCol=column, outputCol=column+\"_index\").fit(sf) for column in list(set(sf.columns)-set(['date'])) ]\n",
    "\n",
    "pipeline = Pipeline(stages=indexers)\n",
    "indexed = pipeline.fit(sf).transform(sf)"
   ]
  },
  {
   "cell_type": "code",
   "execution_count": 71,
   "id": "ea3ec325-b541-462f-b07a-1cb08c66c93c",
   "metadata": {
    "execution": {
     "iopub.execute_input": "2022-05-05T04:11:07.553561Z",
     "iopub.status.busy": "2022-05-05T04:11:07.553324Z",
     "iopub.status.idle": "2022-05-05T04:11:14.854476Z",
     "shell.execute_reply": "2022-05-05T04:11:14.853770Z",
     "shell.execute_reply.started": "2022-05-05T04:11:07.553533Z"
    }
   },
   "outputs": [
    {
     "data": {
      "application/vnd.jupyter.widget-view+json": {
       "model_id": "3c3ed91e769344deaff151158089ea0e",
       "version_major": 2,
       "version_minor": 0
      },
      "text/plain": [
       "VBox()"
      ]
     },
     "metadata": {},
     "output_type": "display_data"
    },
    {
     "data": {
      "application/vnd.jupyter.widget-view+json": {
       "model_id": "",
       "version_major": 2,
       "version_minor": 0
      },
      "text/plain": [
       "FloatProgress(value=0.0, bar_style='info', description='Progress:', layout=Layout(height='25px', width='50%'),…"
      ]
     },
     "metadata": {},
     "output_type": "display_data"
    },
    {
     "name": "stdout",
     "output_type": "stream",
     "text": [
      "[Row(ISIN='DE000C1W2M60', MarketSegment='ODX2', Currency='EUR', SecurityType='OPT', MaturityDate='20211112.0', StrikePrice=16100.0, PutOrCall='Put', MLEG='ODX2 SI 20211112 CS EU P 16100 0', ContractGenerationNumber='1.0', Date='2021-11-09', Time='10:33', StartPrice=76.5, MaxPrice=76.5, MinPrice=76.5, EndPrice=76.5, NumberOfContracts='1.0', NumberOfTrades='1.0', PutOrCall_index=0.0, StrikePrice_index=182.0, ContractGenerationNumber_index=0.0, StartPrice_index=965.0, Currency_index=0.0, EndPrice_index=969.0, NumberOfContracts_index=5.0, ISIN_index=8026.0, Date_index=158.0, MLEG_index=7986.0, MarketSegment_index=19.0, MaxPrice_index=969.0, SecurityType_index=0.0, MaturityDate_index=63.0, NumberOfTrades_index=2.0, MinPrice_index=961.0, Time_index=201.0)]"
     ]
    }
   ],
   "source": [
    "indexed.take(1)"
   ]
  },
  {
   "cell_type": "code",
   "execution_count": 72,
   "id": "edb27108-2275-4d4f-8b98-e0a7da57f49b",
   "metadata": {
    "execution": {
     "iopub.execute_input": "2022-05-05T04:12:03.941423Z",
     "iopub.status.busy": "2022-05-05T04:12:03.941177Z",
     "iopub.status.idle": "2022-05-05T04:12:03.991511Z",
     "shell.execute_reply": "2022-05-05T04:12:03.990995Z",
     "shell.execute_reply.started": "2022-05-05T04:12:03.941395Z"
    },
    "tags": []
   },
   "outputs": [
    {
     "data": {
      "application/vnd.jupyter.widget-view+json": {
       "model_id": "58b4d5c99a024d9ca112d9bbc46c5129",
       "version_major": 2,
       "version_minor": 0
      },
      "text/plain": [
       "VBox()"
      ]
     },
     "metadata": {},
     "output_type": "display_data"
    },
    {
     "data": {
      "application/vnd.jupyter.widget-view+json": {
       "model_id": "",
       "version_major": 2,
       "version_minor": 0
      },
      "text/plain": [
       "FloatProgress(value=0.0, bar_style='info', description='Progress:', layout=Layout(height='25px', width='50%'),…"
      ]
     },
     "metadata": {},
     "output_type": "display_data"
    }
   ],
   "source": [
    "from pyspark.ml.linalg import Vectors\n",
    "from pyspark.ml.feature import VectorAssembler"
   ]
  },
  {
   "cell_type": "code",
   "execution_count": 73,
   "id": "714128c1-e5cf-42fd-bcab-52e6622adbea",
   "metadata": {
    "execution": {
     "iopub.execute_input": "2022-05-05T04:12:06.377933Z",
     "iopub.status.busy": "2022-05-05T04:12:06.377674Z",
     "iopub.status.idle": "2022-05-05T04:12:06.426031Z",
     "shell.execute_reply": "2022-05-05T04:12:06.425441Z",
     "shell.execute_reply.started": "2022-05-05T04:12:06.377903Z"
    },
    "tags": []
   },
   "outputs": [
    {
     "data": {
      "application/vnd.jupyter.widget-view+json": {
       "model_id": "9bb4c55898b7477cbb3be3f42d86f89c",
       "version_major": 2,
       "version_minor": 0
      },
      "text/plain": [
       "VBox()"
      ]
     },
     "metadata": {},
     "output_type": "display_data"
    },
    {
     "data": {
      "application/vnd.jupyter.widget-view+json": {
       "model_id": "",
       "version_major": 2,
       "version_minor": 0
      },
      "text/plain": [
       "FloatProgress(value=0.0, bar_style='info', description='Progress:', layout=Layout(height='25px', width='50%'),…"
      ]
     },
     "metadata": {},
     "output_type": "display_data"
    },
    {
     "name": "stdout",
     "output_type": "stream",
     "text": [
      "['ISIN', 'MarketSegment', 'Currency', 'SecurityType', 'MaturityDate', 'StrikePrice', 'PutOrCall', 'MLEG', 'ContractGenerationNumber', 'Date', 'Time', 'StartPrice', 'MaxPrice', 'MinPrice', 'EndPrice', 'NumberOfContracts', 'NumberOfTrades']"
     ]
    }
   ],
   "source": [
    "sf.columns"
   ]
  },
  {
   "cell_type": "code",
   "execution_count": 119,
   "id": "e7f44617-706e-4570-9353-8965c6d5705b",
   "metadata": {
    "execution": {
     "iopub.execute_input": "2022-05-05T04:24:27.991976Z",
     "iopub.status.busy": "2022-05-05T04:24:27.991674Z",
     "iopub.status.idle": "2022-05-05T04:24:28.044654Z",
     "shell.execute_reply": "2022-05-05T04:24:28.044127Z",
     "shell.execute_reply.started": "2022-05-05T04:24:27.991939Z"
    },
    "tags": []
   },
   "outputs": [
    {
     "data": {
      "application/vnd.jupyter.widget-view+json": {
       "model_id": "385f501053c046e98f3f3bb101ecfe30",
       "version_major": 2,
       "version_minor": 0
      },
      "text/plain": [
       "VBox()"
      ]
     },
     "metadata": {},
     "output_type": "display_data"
    },
    {
     "data": {
      "application/vnd.jupyter.widget-view+json": {
       "model_id": "",
       "version_major": 2,
       "version_minor": 0
      },
      "text/plain": [
       "FloatProgress(value=0.0, bar_style='info', description='Progress:', layout=Layout(height='25px', width='50%'),…"
      ]
     },
     "metadata": {},
     "output_type": "display_data"
    }
   ],
   "source": [
    "\n",
    "assembler = VectorAssembler(\n",
    "  inputCols=['SecurityType_index',\n",
    "             #'MLEG_index',\n",
    "             'StartPrice',\n",
    "             'MaxPrice',\n",
    "             'MinPrice',\n",
    "             #'MarketSegment_index',\n",
    "             'StrikePrice'\n",
    "            ],\n",
    "    outputCol=\"features\")"
   ]
  },
  {
   "cell_type": "code",
   "execution_count": 120,
   "id": "2a8f682b-e33b-4b30-b31c-38b54af2d80e",
   "metadata": {
    "execution": {
     "iopub.execute_input": "2022-05-05T04:24:30.774857Z",
     "iopub.status.busy": "2022-05-05T04:24:30.774628Z",
     "iopub.status.idle": "2022-05-05T04:24:31.033886Z",
     "shell.execute_reply": "2022-05-05T04:24:31.033148Z",
     "shell.execute_reply.started": "2022-05-05T04:24:30.774832Z"
    },
    "tags": []
   },
   "outputs": [
    {
     "data": {
      "application/vnd.jupyter.widget-view+json": {
       "model_id": "bf813b8c843a4e12ab52f325105e0c7c",
       "version_major": 2,
       "version_minor": 0
      },
      "text/plain": [
       "VBox()"
      ]
     },
     "metadata": {},
     "output_type": "display_data"
    },
    {
     "data": {
      "application/vnd.jupyter.widget-view+json": {
       "model_id": "",
       "version_major": 2,
       "version_minor": 0
      },
      "text/plain": [
       "FloatProgress(value=0.0, bar_style='info', description='Progress:', layout=Layout(height='25px', width='50%'),…"
      ]
     },
     "metadata": {},
     "output_type": "display_data"
    }
   ],
   "source": [
    "output = assembler.transform(indexed)\n",
    "output.select(\"features\", \"EndPrice\").show()\n",
    "final_data = output.select(\"features\", \"EndPrice\")"
   ]
  },
  {
   "cell_type": "code",
   "execution_count": 122,
   "id": "29339596-6041-4084-bd56-f66388bddc68",
   "metadata": {
    "execution": {
     "iopub.execute_input": "2022-05-05T04:24:37.208108Z",
     "iopub.status.busy": "2022-05-05T04:24:37.207942Z",
     "iopub.status.idle": "2022-05-05T04:24:37.259879Z",
     "shell.execute_reply": "2022-05-05T04:24:37.259177Z",
     "shell.execute_reply.started": "2022-05-05T04:24:37.208082Z"
    },
    "tags": []
   },
   "outputs": [
    {
     "data": {
      "application/vnd.jupyter.widget-view+json": {
       "model_id": "5799a6036131453384bd4613ae5eb796",
       "version_major": 2,
       "version_minor": 0
      },
      "text/plain": [
       "VBox()"
      ]
     },
     "metadata": {},
     "output_type": "display_data"
    },
    {
     "data": {
      "application/vnd.jupyter.widget-view+json": {
       "model_id": "",
       "version_major": 2,
       "version_minor": 0
      },
      "text/plain": [
       "FloatProgress(value=0.0, bar_style='info', description='Progress:', layout=Layout(height='25px', width='50%'),…"
      ]
     },
     "metadata": {},
     "output_type": "display_data"
    }
   ],
   "source": [
    "train_data,test_data = final_data.randomSplit([0.8,0.2])"
   ]
  },
  {
   "cell_type": "code",
   "execution_count": 123,
   "id": "3769efee-7b91-4568-a4fc-e331a797ee8c",
   "metadata": {
    "execution": {
     "iopub.execute_input": "2022-05-05T04:24:37.261359Z",
     "iopub.status.busy": "2022-05-05T04:24:37.261181Z",
     "iopub.status.idle": "2022-05-05T04:24:37.310413Z",
     "shell.execute_reply": "2022-05-05T04:24:37.309792Z",
     "shell.execute_reply.started": "2022-05-05T04:24:37.261332Z"
    },
    "tags": []
   },
   "outputs": [
    {
     "data": {
      "application/vnd.jupyter.widget-view+json": {
       "model_id": "ac197a152be34004b5aa0ea2949f78fd",
       "version_major": 2,
       "version_minor": 0
      },
      "text/plain": [
       "VBox()"
      ]
     },
     "metadata": {},
     "output_type": "display_data"
    },
    {
     "data": {
      "application/vnd.jupyter.widget-view+json": {
       "model_id": "",
       "version_major": 2,
       "version_minor": 0
      },
      "text/plain": [
       "FloatProgress(value=0.0, bar_style='info', description='Progress:', layout=Layout(height='25px', width='50%'),…"
      ]
     },
     "metadata": {},
     "output_type": "display_data"
    }
   ],
   "source": [
    "from pyspark.ml.regression import LinearRegression\n",
    "# Create a Linear Regression Model object\n",
    "lr = LinearRegression(labelCol='EndPrice')"
   ]
  },
  {
   "cell_type": "code",
   "execution_count": 124,
   "id": "a00be360-82f9-4be7-ae4e-8d8cd54b6dfe",
   "metadata": {
    "execution": {
     "iopub.execute_input": "2022-05-05T04:24:37.311558Z",
     "iopub.status.busy": "2022-05-05T04:24:37.311368Z",
     "iopub.status.idle": "2022-05-05T04:25:06.859131Z",
     "shell.execute_reply": "2022-05-05T04:25:06.858611Z",
     "shell.execute_reply.started": "2022-05-05T04:24:37.311539Z"
    },
    "tags": []
   },
   "outputs": [
    {
     "data": {
      "application/vnd.jupyter.widget-view+json": {
       "model_id": "877121ecb85444ad80b7ed5ecc21c2e5",
       "version_major": 2,
       "version_minor": 0
      },
      "text/plain": [
       "VBox()"
      ]
     },
     "metadata": {},
     "output_type": "display_data"
    },
    {
     "data": {
      "application/vnd.jupyter.widget-view+json": {
       "model_id": "",
       "version_major": 2,
       "version_minor": 0
      },
      "text/plain": [
       "FloatProgress(value=0.0, bar_style='info', description='Progress:', layout=Layout(height='25px', width='50%'),…"
      ]
     },
     "metadata": {},
     "output_type": "display_data"
    }
   ],
   "source": [
    "# Fit the model to the data and call this model lrModel\n",
    "lrModel = lr.fit(train_data)"
   ]
  },
  {
   "cell_type": "code",
   "execution_count": 125,
   "id": "da863950-3795-4f5a-86d3-2ba55e651093",
   "metadata": {
    "execution": {
     "iopub.execute_input": "2022-05-05T04:25:06.860250Z",
     "iopub.status.busy": "2022-05-05T04:25:06.860042Z",
     "iopub.status.idle": "2022-05-05T04:25:06.910307Z",
     "shell.execute_reply": "2022-05-05T04:25:06.909779Z",
     "shell.execute_reply.started": "2022-05-05T04:25:06.860222Z"
    },
    "tags": []
   },
   "outputs": [
    {
     "data": {
      "application/vnd.jupyter.widget-view+json": {
       "model_id": "324d99a3272c4443bbf4a0f58785e198",
       "version_major": 2,
       "version_minor": 0
      },
      "text/plain": [
       "VBox()"
      ]
     },
     "metadata": {},
     "output_type": "display_data"
    },
    {
     "data": {
      "application/vnd.jupyter.widget-view+json": {
       "model_id": "",
       "version_major": 2,
       "version_minor": 0
      },
      "text/plain": [
       "FloatProgress(value=0.0, bar_style='info', description='Progress:', layout=Layout(height='25px', width='50%'),…"
      ]
     },
     "metadata": {},
     "output_type": "display_data"
    },
    {
     "name": "stdout",
     "output_type": "stream",
     "text": [
      "Coefficients: [0.0,-0.7895038597924635,0.6970573469102191,1.092448337370349,1.1862658397500759e-06] Intercept: 0.0006751078477741135"
     ]
    }
   ],
   "source": [
    "# Print the coefficients and intercept for linear regression\n",
    "print(\"Coefficients: {} Intercept: {}\".format(lrModel.coefficients,lrModel.intercept))"
   ]
  },
  {
   "cell_type": "code",
   "execution_count": 126,
   "id": "14b85fd4-84c8-420f-a3f8-104eb0949066",
   "metadata": {
    "execution": {
     "iopub.execute_input": "2022-05-05T04:25:06.911528Z",
     "iopub.status.busy": "2022-05-05T04:25:06.911352Z",
     "iopub.status.idle": "2022-05-05T04:25:22.281765Z",
     "shell.execute_reply": "2022-05-05T04:25:22.281133Z",
     "shell.execute_reply.started": "2022-05-05T04:25:06.911501Z"
    },
    "tags": []
   },
   "outputs": [
    {
     "data": {
      "application/vnd.jupyter.widget-view+json": {
       "model_id": "3e9876ef1ce2460f969126b919cfdb58",
       "version_major": 2,
       "version_minor": 0
      },
      "text/plain": [
       "VBox()"
      ]
     },
     "metadata": {},
     "output_type": "display_data"
    },
    {
     "data": {
      "application/vnd.jupyter.widget-view+json": {
       "model_id": "",
       "version_major": 2,
       "version_minor": 0
      },
      "text/plain": [
       "FloatProgress(value=0.0, bar_style='info', description='Progress:', layout=Layout(height='25px', width='50%'),…"
      ]
     },
     "metadata": {},
     "output_type": "display_data"
    }
   ],
   "source": [
    "test_results = lrModel.evaluate(test_data)"
   ]
  },
  {
   "cell_type": "code",
   "execution_count": 127,
   "id": "48c6f0e8-7961-44e8-a2f5-e2c5132fea4f",
   "metadata": {
    "execution": {
     "iopub.execute_input": "2022-05-05T04:25:25.237219Z",
     "iopub.status.busy": "2022-05-05T04:25:25.236966Z",
     "iopub.status.idle": "2022-05-05T04:25:25.295626Z",
     "shell.execute_reply": "2022-05-05T04:25:25.294880Z",
     "shell.execute_reply.started": "2022-05-05T04:25:25.237190Z"
    },
    "tags": []
   },
   "outputs": [
    {
     "data": {
      "application/vnd.jupyter.widget-view+json": {
       "model_id": "ad436f2ac04647f39e4013a2a87444e0",
       "version_major": 2,
       "version_minor": 0
      },
      "text/plain": [
       "VBox()"
      ]
     },
     "metadata": {},
     "output_type": "display_data"
    },
    {
     "data": {
      "application/vnd.jupyter.widget-view+json": {
       "model_id": "",
       "version_major": 2,
       "version_minor": 0
      },
      "text/plain": [
       "FloatProgress(value=0.0, bar_style='info', description='Progress:', layout=Layout(height='25px', width='50%'),…"
      ]
     },
     "metadata": {},
     "output_type": "display_data"
    },
    {
     "name": "stdout",
     "output_type": "stream",
     "text": [
      "RMSE: 0.07517837747196177\n",
      "MSE: 0.0056517884393167675\n",
      "R2: 0.9999998033353552"
     ]
    }
   ],
   "source": [
    "print(\"RMSE: {}\".format(test_results.rootMeanSquaredError))\n",
    "print(\"MSE: {}\".format(test_results.meanSquaredError))\n",
    "print(\"R2: {}\".format(test_results.r2))"
   ]
  },
  {
   "cell_type": "code",
   "execution_count": 149,
   "id": "bbbd9593-8fb9-4c2d-8899-52d69c7e135a",
   "metadata": {
    "execution": {
     "iopub.execute_input": "2022-05-05T04:34:03.749202Z",
     "iopub.status.busy": "2022-05-05T04:34:03.748909Z",
     "iopub.status.idle": "2022-05-05T04:34:03.800041Z",
     "shell.execute_reply": "2022-05-05T04:34:03.799501Z",
     "shell.execute_reply.started": "2022-05-05T04:34:03.749174Z"
    },
    "tags": []
   },
   "outputs": [
    {
     "data": {
      "application/vnd.jupyter.widget-view+json": {
       "model_id": "51fed3a8a0cd4237b7a60784c85d25ee",
       "version_major": 2,
       "version_minor": 0
      },
      "text/plain": [
       "VBox()"
      ]
     },
     "metadata": {},
     "output_type": "display_data"
    },
    {
     "data": {
      "application/vnd.jupyter.widget-view+json": {
       "model_id": "",
       "version_major": 2,
       "version_minor": 0
      },
      "text/plain": [
       "FloatProgress(value=0.0, bar_style='info', description='Progress:', layout=Layout(height='25px', width='50%'),…"
      ]
     },
     "metadata": {},
     "output_type": "display_data"
    }
   ],
   "source": [
    "#Strike price prediction\n",
    "assembler = VectorAssembler(\n",
    "  inputCols=['SecurityType_index',\n",
    "             'MLEG_index',\n",
    "             'PutOrCall_index',\n",
    "             'StartPrice',\n",
    "             'MaxPrice',\n",
    "             'MinPrice',\n",
    "             'EndPrice',\n",
    "             'MarketSegment_index'\n",
    "            ],\n",
    "    outputCol=\"features\")"
   ]
  },
  {
   "cell_type": "code",
   "execution_count": 150,
   "id": "2fca31f1-c383-4d1e-9bb9-ef63972816bd",
   "metadata": {
    "execution": {
     "iopub.execute_input": "2022-05-05T04:34:04.682150Z",
     "iopub.status.busy": "2022-05-05T04:34:04.681893Z",
     "iopub.status.idle": "2022-05-05T04:34:04.937415Z",
     "shell.execute_reply": "2022-05-05T04:34:04.936749Z",
     "shell.execute_reply.started": "2022-05-05T04:34:04.682144Z"
    },
    "tags": []
   },
   "outputs": [
    {
     "data": {
      "application/vnd.jupyter.widget-view+json": {
       "model_id": "bf71bb0bd8a74987bc7a7c55a92b3775",
       "version_major": 2,
       "version_minor": 0
      },
      "text/plain": [
       "VBox()"
      ]
     },
     "metadata": {},
     "output_type": "display_data"
    },
    {
     "data": {
      "application/vnd.jupyter.widget-view+json": {
       "model_id": "",
       "version_major": 2,
       "version_minor": 0
      },
      "text/plain": [
       "FloatProgress(value=0.0, bar_style='info', description='Progress:', layout=Layout(height='25px', width='50%'),…"
      ]
     },
     "metadata": {},
     "output_type": "display_data"
    }
   ],
   "source": [
    "output = assembler.transform(indexed)"
   ]
  },
  {
   "cell_type": "code",
   "execution_count": 151,
   "id": "16429146-ec42-4f5c-a13f-71ecd9497a20",
   "metadata": {
    "execution": {
     "iopub.execute_input": "2022-05-05T04:34:05.171073Z",
     "iopub.status.busy": "2022-05-05T04:34:05.170875Z",
     "iopub.status.idle": "2022-05-05T04:34:10.478056Z",
     "shell.execute_reply": "2022-05-05T04:34:10.477408Z",
     "shell.execute_reply.started": "2022-05-05T04:34:05.171073Z"
    },
    "tags": []
   },
   "outputs": [
    {
     "data": {
      "application/vnd.jupyter.widget-view+json": {
       "model_id": "d204371c827d41318750b33a6ec74155",
       "version_major": 2,
       "version_minor": 0
      },
      "text/plain": [
       "VBox()"
      ]
     },
     "metadata": {},
     "output_type": "display_data"
    },
    {
     "data": {
      "application/vnd.jupyter.widget-view+json": {
       "model_id": "",
       "version_major": 2,
       "version_minor": 0
      },
      "text/plain": [
       "FloatProgress(value=0.0, bar_style='info', description='Progress:', layout=Layout(height='25px', width='50%'),…"
      ]
     },
     "metadata": {},
     "output_type": "display_data"
    },
    {
     "name": "stdout",
     "output_type": "stream",
     "text": [
      "+--------------------+-----------+\n",
      "|            features|StrikePrice|\n",
      "+--------------------+-----------+\n",
      "|[0.0,7986.0,0.0,7...|    16100.0|\n",
      "|[0.0,374.0,0.0,36...|     4200.0|\n",
      "|[0.0,113921.0,1.0...|       34.0|\n",
      "|[0.0,9847.0,0.0,0...|      170.5|\n",
      "|[0.0,47.0,1.0,0.2...|      397.5|\n",
      "|[0.0,11.0,0.0,0.6...|      385.0|\n",
      "|[0.0,47.0,1.0,0.3...|      397.5|\n",
      "|[0.0,17912.0,0.0,...|     3975.0|\n",
      "|[0.0,87023.0,0.0,...|      100.0|\n",
      "|[0.0,214.0,1.0,2....|      390.0|\n",
      "|[0.0,66.0,0.0,0.0...|      375.0|\n",
      "|[0.0,25766.0,0.0,...|        4.0|\n",
      "|[0.0,25263.0,0.0,...|       12.6|\n",
      "|[0.0,17.0,1.0,0.0...|      400.0|\n",
      "|[0.0,67.0,1.0,0.4...|      395.0|\n",
      "|[0.0,48.0,0.0,3.0...|      390.0|\n",
      "|[0.0,167.0,1.0,0....|      392.5|\n",
      "|[0.0,12481.0,0.0,...|       43.5|\n",
      "|[0.0,4.0,1.0,1.46...|      402.5|\n",
      "|[0.0,23022.0,0.0,...|      161.0|\n",
      "+--------------------+-----------+\n",
      "only showing top 20 rows"
     ]
    }
   ],
   "source": [
    "output.select(\"features\", \"StrikePrice\").show()\n",
    "final_data = output.select(\"features\", \"StrikePrice\")"
   ]
  },
  {
   "cell_type": "code",
   "execution_count": 152,
   "id": "2b872415-0aef-4e61-ac36-4f723f2e1f9f",
   "metadata": {
    "execution": {
     "iopub.execute_input": "2022-05-05T04:34:10.479310Z",
     "iopub.status.busy": "2022-05-05T04:34:10.479129Z",
     "iopub.status.idle": "2022-05-05T04:34:10.530209Z",
     "shell.execute_reply": "2022-05-05T04:34:10.529640Z",
     "shell.execute_reply.started": "2022-05-05T04:34:10.479310Z"
    },
    "tags": []
   },
   "outputs": [
    {
     "data": {
      "application/vnd.jupyter.widget-view+json": {
       "model_id": "9fb0b80164f642d8992d6d0a8e8dac1c",
       "version_major": 2,
       "version_minor": 0
      },
      "text/plain": [
       "VBox()"
      ]
     },
     "metadata": {},
     "output_type": "display_data"
    },
    {
     "data": {
      "application/vnd.jupyter.widget-view+json": {
       "model_id": "",
       "version_major": 2,
       "version_minor": 0
      },
      "text/plain": [
       "FloatProgress(value=0.0, bar_style='info', description='Progress:', layout=Layout(height='25px', width='50%'),…"
      ]
     },
     "metadata": {},
     "output_type": "display_data"
    }
   ],
   "source": [
    "train_data,test_data = final_data.randomSplit([0.8,0.2])"
   ]
  },
  {
   "cell_type": "code",
   "execution_count": 153,
   "id": "19492c1c-8516-45a1-aaa5-ccd6e63d3746",
   "metadata": {
    "execution": {
     "iopub.execute_input": "2022-05-05T04:34:10.531619Z",
     "iopub.status.busy": "2022-05-05T04:34:10.531378Z",
     "iopub.status.idle": "2022-05-05T04:34:10.582083Z",
     "shell.execute_reply": "2022-05-05T04:34:10.581573Z",
     "shell.execute_reply.started": "2022-05-05T04:34:10.531574Z"
    },
    "tags": []
   },
   "outputs": [
    {
     "data": {
      "application/vnd.jupyter.widget-view+json": {
       "model_id": "968166c828aa4619802a4e8f71401a1f",
       "version_major": 2,
       "version_minor": 0
      },
      "text/plain": [
       "VBox()"
      ]
     },
     "metadata": {},
     "output_type": "display_data"
    },
    {
     "data": {
      "application/vnd.jupyter.widget-view+json": {
       "model_id": "",
       "version_major": 2,
       "version_minor": 0
      },
      "text/plain": [
       "FloatProgress(value=0.0, bar_style='info', description='Progress:', layout=Layout(height='25px', width='50%'),…"
      ]
     },
     "metadata": {},
     "output_type": "display_data"
    }
   ],
   "source": [
    "from pyspark.ml.regression import LinearRegression\n",
    "# Create a Linear Regression Model object\n",
    "lr = LinearRegression(labelCol='StrikePrice')"
   ]
  },
  {
   "cell_type": "code",
   "execution_count": 154,
   "id": "9a8bed2b-1865-40c0-b27c-95719fd7dd69",
   "metadata": {
    "execution": {
     "iopub.execute_input": "2022-05-05T04:34:10.583270Z",
     "iopub.status.busy": "2022-05-05T04:34:10.583133Z",
     "iopub.status.idle": "2022-05-05T04:34:50.078432Z",
     "shell.execute_reply": "2022-05-05T04:34:50.077868Z",
     "shell.execute_reply.started": "2022-05-05T04:34:10.583270Z"
    },
    "tags": []
   },
   "outputs": [
    {
     "data": {
      "application/vnd.jupyter.widget-view+json": {
       "model_id": "57ebc7b99ef14f81a6d5ae7486e0aed9",
       "version_major": 2,
       "version_minor": 0
      },
      "text/plain": [
       "VBox()"
      ]
     },
     "metadata": {},
     "output_type": "display_data"
    },
    {
     "data": {
      "application/vnd.jupyter.widget-view+json": {
       "model_id": "",
       "version_major": 2,
       "version_minor": 0
      },
      "text/plain": [
       "FloatProgress(value=0.0, bar_style='info', description='Progress:', layout=Layout(height='25px', width='50%'),…"
      ]
     },
     "metadata": {},
     "output_type": "display_data"
    }
   ],
   "source": [
    "# Fit the model to the data and call this model lrModel\n",
    "lrModel = lr.fit(train_data)"
   ]
  },
  {
   "cell_type": "code",
   "execution_count": 155,
   "id": "91cf92b4-1902-4735-9285-1370cef5508a",
   "metadata": {
    "execution": {
     "iopub.execute_input": "2022-05-05T04:34:50.079492Z",
     "iopub.status.busy": "2022-05-05T04:34:50.079294Z",
     "iopub.status.idle": "2022-05-05T04:34:50.124067Z",
     "shell.execute_reply": "2022-05-05T04:34:50.123327Z",
     "shell.execute_reply.started": "2022-05-05T04:34:50.079465Z"
    },
    "tags": []
   },
   "outputs": [
    {
     "data": {
      "application/vnd.jupyter.widget-view+json": {
       "model_id": "e4567b8f6700415495dd4d3f4d20175f",
       "version_major": 2,
       "version_minor": 0
      },
      "text/plain": [
       "VBox()"
      ]
     },
     "metadata": {},
     "output_type": "display_data"
    },
    {
     "data": {
      "application/vnd.jupyter.widget-view+json": {
       "model_id": "",
       "version_major": 2,
       "version_minor": 0
      },
      "text/plain": [
       "FloatProgress(value=0.0, bar_style='info', description='Progress:', layout=Layout(height='25px', width='50%'),…"
      ]
     },
     "metadata": {},
     "output_type": "display_data"
    },
    {
     "name": "stdout",
     "output_type": "stream",
     "text": [
      "Coefficients: [0.0,-0.006268962377046943,-14.769061909112818,234.00185753585043,1391.9325096706416,-1389.746396593621,-226.7172570459919,-6.520406974828376] Intercept: 2288.3953227901006"
     ]
    }
   ],
   "source": [
    "# Print the coefficients and intercept for linear regression\n",
    "print(\"Coefficients: {} Intercept: {}\".format(lrModel.coefficients,lrModel.intercept))"
   ]
  },
  {
   "cell_type": "code",
   "execution_count": 156,
   "id": "51ebe95a-1787-48a6-bd76-a08b5826de31",
   "metadata": {
    "execution": {
     "iopub.execute_input": "2022-05-05T04:34:50.125417Z",
     "iopub.status.busy": "2022-05-05T04:34:50.125009Z",
     "iopub.status.idle": "2022-05-05T04:35:11.529056Z",
     "shell.execute_reply": "2022-05-05T04:35:11.528303Z",
     "shell.execute_reply.started": "2022-05-05T04:34:50.125412Z"
    },
    "tags": []
   },
   "outputs": [
    {
     "data": {
      "application/vnd.jupyter.widget-view+json": {
       "model_id": "355d6aa41e42416385ad0198f6074499",
       "version_major": 2,
       "version_minor": 0
      },
      "text/plain": [
       "VBox()"
      ]
     },
     "metadata": {},
     "output_type": "display_data"
    },
    {
     "data": {
      "application/vnd.jupyter.widget-view+json": {
       "model_id": "",
       "version_major": 2,
       "version_minor": 0
      },
      "text/plain": [
       "FloatProgress(value=0.0, bar_style='info', description='Progress:', layout=Layout(height='25px', width='50%'),…"
      ]
     },
     "metadata": {},
     "output_type": "display_data"
    }
   ],
   "source": [
    "test_results = lrModel.evaluate(test_data)"
   ]
  },
  {
   "cell_type": "code",
   "execution_count": 157,
   "id": "8c1c03da-0e24-422c-a932-4be4d99b0d16",
   "metadata": {
    "execution": {
     "iopub.execute_input": "2022-05-05T04:35:11.530136Z",
     "iopub.status.busy": "2022-05-05T04:35:11.530000Z",
     "iopub.status.idle": "2022-05-05T04:35:11.582227Z",
     "shell.execute_reply": "2022-05-05T04:35:11.581617Z",
     "shell.execute_reply.started": "2022-05-05T04:35:11.530136Z"
    },
    "tags": []
   },
   "outputs": [
    {
     "data": {
      "application/vnd.jupyter.widget-view+json": {
       "model_id": "e458641b724e4cb6b0aaba9f98a8ccf6",
       "version_major": 2,
       "version_minor": 0
      },
      "text/plain": [
       "VBox()"
      ]
     },
     "metadata": {},
     "output_type": "display_data"
    },
    {
     "data": {
      "application/vnd.jupyter.widget-view+json": {
       "model_id": "",
       "version_major": 2,
       "version_minor": 0
      },
      "text/plain": [
       "FloatProgress(value=0.0, bar_style='info', description='Progress:', layout=Layout(height='25px', width='50%'),…"
      ]
     },
     "metadata": {},
     "output_type": "display_data"
    },
    {
     "name": "stdout",
     "output_type": "stream",
     "text": [
      "RMSE: 4115.592767868261\n",
      "MSE: 16938103.830929536\n",
      "R2: 0.1407630371203058"
     ]
    }
   ],
   "source": [
    "print(\"RMSE: {}\".format(test_results.rootMeanSquaredError))\n",
    "print(\"MSE: {}\".format(test_results.meanSquaredError))\n",
    "print(\"R2: {}\".format(test_results.r2))"
   ]
  },
  {
   "cell_type": "code",
   "execution_count": null,
   "id": "cebeab32-7228-4c40-9a39-d86473478fe5",
   "metadata": {},
   "outputs": [],
   "source": []
  }
 ],
 "metadata": {
  "kernelspec": {
   "display_name": "Python 3 (ipykernel)",
   "language": "python",
   "name": "python3"
  },
  "language_info": {
   "codemirror_mode": {
    "name": "ipython",
    "version": 3
   },
   "file_extension": ".py",
   "mimetype": "text/x-python",
   "name": "python",
   "nbconvert_exporter": "python",
   "pygments_lexer": "ipython3",
   "version": "3.8.11"
  }
 },
 "nbformat": 4,
 "nbformat_minor": 5
}
